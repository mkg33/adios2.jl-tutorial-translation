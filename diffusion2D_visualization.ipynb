{
 "cells": [
  {
   "cell_type": "code",
   "execution_count": 1,
   "metadata": {},
   "outputs": [],
   "source": [
    "# Warning: this notebook doesn't work on Apple M1."
   ]
  },
  {
   "cell_type": "code",
   "execution_count": 2,
   "metadata": {},
   "outputs": [],
   "source": [
    "using Pkg\n",
    "Pkg.instantiate()\n",
    "using IJulia\n",
    "using LinearAlgebra\n",
    "using ADIOS2\n",
    "using GR\n",
    "using Plots"
   ]
  },
  {
   "cell_type": "code",
   "execution_count": null,
   "metadata": {},
   "outputs": [],
   "source": [
    "adios = ADIOS2.adios_init_serial(joinpath(pwd(),\"adios2.xml\"))     # Use the configurations defined in \"adios2.xml\"...\n",
    "io = ADIOS2.declare_io(adios, \"readerIO\")                          # ... in the section \"readerIO\"\n",
    "engine = ADIOS2.open(io, \"diffusion2D.bp\", mode_read)              # Open the file/stream \"diffusion2D.bp\"\n",
    "engine_type(io)                                                    # Check the type of the engine: BP4/SST..."
   ]
  },
  {
   "cell_type": "code",
   "execution_count": null,
   "metadata": {},
   "outputs": [],
   "source": [
    "inquire_all_variables(io)     # There are no available variables before the first step when using SST"
   ]
  },
  {
   "cell_type": "code",
   "execution_count": null,
   "metadata": {},
   "outputs": [],
   "source": [
    "nprocessed=0\n",
    "while begin_step(engine, step_mode_read, 100.0) != step_status_end_of_stream   # Begin the next ADIOS2 read step while there is any\n",
    "    T_id = inquire_variable(io, \"temperature\")                                 # Get a handle for the variable T. ATTENTION: T_id is only valid for the current step when using streaming (SST or file streaming); thus, moving it into the if statement below would lead to an error!\n",
    "    if nprocessed == 0\n",
    "        nxy_global = shape(T_id)                                               # Extract meta data\n",
    "        nxy        = count(T_id)                                               # ...\n",
    "        T_type     = type(T_id)                                                # ...\n",
    "        global T = zeros(T_type, nxy)                                          # Preallocate memory for T using the meta data\n",
    "        print(nxy_global, nxy, T_type); sleep(4)                               # Note that nxy==nxy_global as we read only with one process\n",
    "    end  \n",
    "    get(engine, T_id, T)                                                       # Add T to variable(s) for reading (SetSelection() would be needed in addition if we were reading the data with multiple MPI processes: this would make sure that every process reads \"his\" block)\n",
    "    end_step(engine)                                                           # End ADIOS2 read step (includes normally the actual reading of data) \n",
    "    IJulia.clear_output(true)                                                  # Pass wait=true to wait until new ouput before clearing; this prevents flickering\n",
    "    plot_title = \"Temperature at step \" * string(nprocessed)                   # Plot the temperature\n",
    "    display(Plots.contourf(transpose(T), title=plot_title, size=(1700,1700), \n",
    "                           xtickfontsize=30, ytickfontsize=30,                 # ...\n",
    "                           xguidefontsize=30, yguidefontsize=30, \n",
    "                           legendfontsize=30, titlefontsize=40))               # ...\n",
    "    \n",
    "    nprocessed += 1\n",
    "end"
   ]
  },
  {
   "cell_type": "code",
   "execution_count": null,
   "metadata": {},
   "outputs": [],
   "source": [
    "close(engine)"
   ]
  },
  {
   "cell_type": "code",
   "execution_count": null,
   "metadata": {},
   "outputs": [],
   "source": []
  }
 ],
 "metadata": {
  "kernelspec": {
   "display_name": "Julia 1.9.0",
   "language": "julia",
   "name": "julia-1.9"
  },
  "language_info": {
   "file_extension": ".jl",
   "mimetype": "application/julia",
   "name": "julia",
   "version": "1.9.0"
  }
 },
 "nbformat": 4,
 "nbformat_minor": 4
}
